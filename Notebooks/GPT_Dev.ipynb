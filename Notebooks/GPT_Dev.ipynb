{
  "nbformat": 4,
  "nbformat_minor": 0,
  "metadata": {
    "colab": {
      "provenance": []
    },
    "kernelspec": {
      "name": "python3",
      "display_name": "Python 3"
    },
    "language_info": {
      "name": "python"
    }
  },
  "cells": [
    {
      "cell_type": "markdown",
      "source": [
        "# **GPT Dev from scratch**"
      ],
      "metadata": {
        "id": "_sog_sysbYs2"
      }
    },
    {
      "cell_type": "markdown",
      "source": [
        "## **Data Insighting**"
      ],
      "metadata": {
        "id": "VOcunVjKbo4_"
      }
    },
    {
      "cell_type": "code",
      "source": [
        "with open(\"/content/input.txt\",'r') as f:\n",
        "  text=f.read()"
      ],
      "metadata": {
        "id": "3yGblp6fVb-D"
      },
      "execution_count": 83,
      "outputs": []
    },
    {
      "cell_type": "code",
      "source": [
        "print(\"length of character: \",len(text))"
      ],
      "metadata": {
        "colab": {
          "base_uri": "https://localhost:8080/"
        },
        "id": "y1Cl2_zzWegR",
        "outputId": "60b0b4d9-abb0-4ff9-b8ed-78e7a0f6dcb5"
      },
      "execution_count": 84,
      "outputs": [
        {
          "output_type": "stream",
          "name": "stdout",
          "text": [
            "length of character:  1115394\n"
          ]
        }
      ]
    },
    {
      "cell_type": "code",
      "source": [
        "# looking for first 1000 characters of the dataset\n",
        "print(text[:1000])"
      ],
      "metadata": {
        "colab": {
          "base_uri": "https://localhost:8080/"
        },
        "id": "8sCGSOCAWe_I",
        "outputId": "3990c3bf-5fa5-482b-c250-7f0cca08df91"
      },
      "execution_count": 85,
      "outputs": [
        {
          "output_type": "stream",
          "name": "stdout",
          "text": [
            "First Citizen:\n",
            "Before we proceed any further, hear me speak.\n",
            "\n",
            "All:\n",
            "Speak, speak.\n",
            "\n",
            "First Citizen:\n",
            "You are all resolved rather to die than to famish?\n",
            "\n",
            "All:\n",
            "Resolved. resolved.\n",
            "\n",
            "First Citizen:\n",
            "First, you know Caius Marcius is chief enemy to the people.\n",
            "\n",
            "All:\n",
            "We know't, we know't.\n",
            "\n",
            "First Citizen:\n",
            "Let us kill him, and we'll have corn at our own price.\n",
            "Is't a verdict?\n",
            "\n",
            "All:\n",
            "No more talking on't; let it be done: away, away!\n",
            "\n",
            "Second Citizen:\n",
            "One word, good citizens.\n",
            "\n",
            "First Citizen:\n",
            "We are accounted poor citizens, the patricians good.\n",
            "What authority surfeits on would relieve us: if they\n",
            "would yield us but the superfluity, while it were\n",
            "wholesome, we might guess they relieved us humanely;\n",
            "but they think we are too dear: the leanness that\n",
            "afflicts us, the object of our misery, is as an\n",
            "inventory to particularise their abundance; our\n",
            "sufferance is a gain to them Let us revenge this with\n",
            "our pikes, ere we become rakes: for the gods know I\n",
            "speak this in hunger for bread, not in thirst for revenge.\n",
            "\n",
            "\n"
          ]
        }
      ]
    },
    {
      "cell_type": "code",
      "source": [
        "# all unique characters of the dataset\n",
        "chars=sorted(list(set(text)))\n",
        "vocab_size=len(chars)\n",
        "print(''.join(chars))\n",
        "print(vocab_size)"
      ],
      "metadata": {
        "colab": {
          "base_uri": "https://localhost:8080/"
        },
        "id": "tnuRMU4GW2Bl",
        "outputId": "247c35f8-06b8-4a7d-9f9f-1681bfcba80c"
      },
      "execution_count": 86,
      "outputs": [
        {
          "output_type": "stream",
          "name": "stdout",
          "text": [
            "\n",
            " !$&',-.3:;?ABCDEFGHIJKLMNOPQRSTUVWXYZabcdefghijklmnopqrstuvwxyz\n",
            "65\n"
          ]
        }
      ]
    },
    {
      "cell_type": "markdown",
      "source": [
        "## **Tokenization**"
      ],
      "metadata": {
        "id": "51KmEMYocAZD"
      }
    },
    {
      "cell_type": "markdown",
      "source": [
        "this code will do character level tokenization, it will encode and decode the text."
      ],
      "metadata": {
        "id": "56JFY_mhcFX0"
      }
    },
    {
      "cell_type": "code",
      "source": [
        "# Character level tokenization and mapping them\n",
        "stoi={ch:i for i,ch in enumerate(chars)}\n",
        "itos={i:ch for i,ch in enumerate(chars)}\n",
        "encode=lambda s:[stoi[c] for c in s] # takes text and convert it into integers\n",
        "decode=lambda l:''.join([itos[i] for i in l])# takes integers and convert it into text"
      ],
      "metadata": {
        "id": "zrKbzDUlXBzG"
      },
      "execution_count": 87,
      "outputs": []
    },
    {
      "cell_type": "code",
      "source": [
        "print(encode(\"Hello world\"))\n",
        "print(decode(encode(\"Hello world\")))"
      ],
      "metadata": {
        "colab": {
          "base_uri": "https://localhost:8080/"
        },
        "id": "2zTeIDKkYN2S",
        "outputId": "2d933610-3f0c-409a-b439-4c818ea58f70"
      },
      "execution_count": 88,
      "outputs": [
        {
          "output_type": "stream",
          "name": "stdout",
          "text": [
            "[20, 43, 50, 50, 53, 1, 61, 53, 56, 50, 42]\n",
            "Hello world\n"
          ]
        }
      ]
    },
    {
      "cell_type": "markdown",
      "source": [
        "Encoding entire dataset for the model."
      ],
      "metadata": {
        "id": "o_r6yZJXcQAa"
      }
    },
    {
      "cell_type": "code",
      "source": [
        "# Encoding entire dataset\n",
        "import torch\n",
        "data=torch.tensor(encode(text),dtype=torch.long)\n",
        "print(data.shape,data.dtype)\n",
        "print(data[:1000])"
      ],
      "metadata": {
        "colab": {
          "base_uri": "https://localhost:8080/"
        },
        "id": "46DlNxgxYhVQ",
        "outputId": "21709b10-6724-462e-aa1a-a57985dac31e"
      },
      "execution_count": 89,
      "outputs": [
        {
          "output_type": "stream",
          "name": "stdout",
          "text": [
            "torch.Size([1115394]) torch.int64\n",
            "tensor([18, 47, 56, 57, 58,  1, 15, 47, 58, 47, 64, 43, 52, 10,  0, 14, 43, 44,\n",
            "        53, 56, 43,  1, 61, 43,  1, 54, 56, 53, 41, 43, 43, 42,  1, 39, 52, 63,\n",
            "         1, 44, 59, 56, 58, 46, 43, 56,  6,  1, 46, 43, 39, 56,  1, 51, 43,  1,\n",
            "        57, 54, 43, 39, 49,  8,  0,  0, 13, 50, 50, 10,  0, 31, 54, 43, 39, 49,\n",
            "         6,  1, 57, 54, 43, 39, 49,  8,  0,  0, 18, 47, 56, 57, 58,  1, 15, 47,\n",
            "        58, 47, 64, 43, 52, 10,  0, 37, 53, 59,  1, 39, 56, 43,  1, 39, 50, 50,\n",
            "         1, 56, 43, 57, 53, 50, 60, 43, 42,  1, 56, 39, 58, 46, 43, 56,  1, 58,\n",
            "        53,  1, 42, 47, 43,  1, 58, 46, 39, 52,  1, 58, 53,  1, 44, 39, 51, 47,\n",
            "        57, 46, 12,  0,  0, 13, 50, 50, 10,  0, 30, 43, 57, 53, 50, 60, 43, 42,\n",
            "         8,  1, 56, 43, 57, 53, 50, 60, 43, 42,  8,  0,  0, 18, 47, 56, 57, 58,\n",
            "         1, 15, 47, 58, 47, 64, 43, 52, 10,  0, 18, 47, 56, 57, 58,  6,  1, 63,\n",
            "        53, 59,  1, 49, 52, 53, 61,  1, 15, 39, 47, 59, 57,  1, 25, 39, 56, 41,\n",
            "        47, 59, 57,  1, 47, 57,  1, 41, 46, 47, 43, 44,  1, 43, 52, 43, 51, 63,\n",
            "         1, 58, 53,  1, 58, 46, 43,  1, 54, 43, 53, 54, 50, 43,  8,  0,  0, 13,\n",
            "        50, 50, 10,  0, 35, 43,  1, 49, 52, 53, 61,  5, 58,  6,  1, 61, 43,  1,\n",
            "        49, 52, 53, 61,  5, 58,  8,  0,  0, 18, 47, 56, 57, 58,  1, 15, 47, 58,\n",
            "        47, 64, 43, 52, 10,  0, 24, 43, 58,  1, 59, 57,  1, 49, 47, 50, 50,  1,\n",
            "        46, 47, 51,  6,  1, 39, 52, 42,  1, 61, 43,  5, 50, 50,  1, 46, 39, 60,\n",
            "        43,  1, 41, 53, 56, 52,  1, 39, 58,  1, 53, 59, 56,  1, 53, 61, 52,  1,\n",
            "        54, 56, 47, 41, 43,  8,  0, 21, 57,  5, 58,  1, 39,  1, 60, 43, 56, 42,\n",
            "        47, 41, 58, 12,  0,  0, 13, 50, 50, 10,  0, 26, 53,  1, 51, 53, 56, 43,\n",
            "         1, 58, 39, 50, 49, 47, 52, 45,  1, 53, 52,  5, 58, 11,  1, 50, 43, 58,\n",
            "         1, 47, 58,  1, 40, 43,  1, 42, 53, 52, 43, 10,  1, 39, 61, 39, 63,  6,\n",
            "         1, 39, 61, 39, 63,  2,  0,  0, 31, 43, 41, 53, 52, 42,  1, 15, 47, 58,\n",
            "        47, 64, 43, 52, 10,  0, 27, 52, 43,  1, 61, 53, 56, 42,  6,  1, 45, 53,\n",
            "        53, 42,  1, 41, 47, 58, 47, 64, 43, 52, 57,  8,  0,  0, 18, 47, 56, 57,\n",
            "        58,  1, 15, 47, 58, 47, 64, 43, 52, 10,  0, 35, 43,  1, 39, 56, 43,  1,\n",
            "        39, 41, 41, 53, 59, 52, 58, 43, 42,  1, 54, 53, 53, 56,  1, 41, 47, 58,\n",
            "        47, 64, 43, 52, 57,  6,  1, 58, 46, 43,  1, 54, 39, 58, 56, 47, 41, 47,\n",
            "        39, 52, 57,  1, 45, 53, 53, 42,  8,  0, 35, 46, 39, 58,  1, 39, 59, 58,\n",
            "        46, 53, 56, 47, 58, 63,  1, 57, 59, 56, 44, 43, 47, 58, 57,  1, 53, 52,\n",
            "         1, 61, 53, 59, 50, 42,  1, 56, 43, 50, 47, 43, 60, 43,  1, 59, 57, 10,\n",
            "         1, 47, 44,  1, 58, 46, 43, 63,  0, 61, 53, 59, 50, 42,  1, 63, 47, 43,\n",
            "        50, 42,  1, 59, 57,  1, 40, 59, 58,  1, 58, 46, 43,  1, 57, 59, 54, 43,\n",
            "        56, 44, 50, 59, 47, 58, 63,  6,  1, 61, 46, 47, 50, 43,  1, 47, 58,  1,\n",
            "        61, 43, 56, 43,  0, 61, 46, 53, 50, 43, 57, 53, 51, 43,  6,  1, 61, 43,\n",
            "         1, 51, 47, 45, 46, 58,  1, 45, 59, 43, 57, 57,  1, 58, 46, 43, 63,  1,\n",
            "        56, 43, 50, 47, 43, 60, 43, 42,  1, 59, 57,  1, 46, 59, 51, 39, 52, 43,\n",
            "        50, 63, 11,  0, 40, 59, 58,  1, 58, 46, 43, 63,  1, 58, 46, 47, 52, 49,\n",
            "         1, 61, 43,  1, 39, 56, 43,  1, 58, 53, 53,  1, 42, 43, 39, 56, 10,  1,\n",
            "        58, 46, 43,  1, 50, 43, 39, 52, 52, 43, 57, 57,  1, 58, 46, 39, 58,  0,\n",
            "        39, 44, 44, 50, 47, 41, 58, 57,  1, 59, 57,  6,  1, 58, 46, 43,  1, 53,\n",
            "        40, 48, 43, 41, 58,  1, 53, 44,  1, 53, 59, 56,  1, 51, 47, 57, 43, 56,\n",
            "        63,  6,  1, 47, 57,  1, 39, 57,  1, 39, 52,  0, 47, 52, 60, 43, 52, 58,\n",
            "        53, 56, 63,  1, 58, 53,  1, 54, 39, 56, 58, 47, 41, 59, 50, 39, 56, 47,\n",
            "        57, 43,  1, 58, 46, 43, 47, 56,  1, 39, 40, 59, 52, 42, 39, 52, 41, 43,\n",
            "        11,  1, 53, 59, 56,  0, 57, 59, 44, 44, 43, 56, 39, 52, 41, 43,  1, 47,\n",
            "        57,  1, 39,  1, 45, 39, 47, 52,  1, 58, 53,  1, 58, 46, 43, 51,  1, 24,\n",
            "        43, 58,  1, 59, 57,  1, 56, 43, 60, 43, 52, 45, 43,  1, 58, 46, 47, 57,\n",
            "         1, 61, 47, 58, 46,  0, 53, 59, 56,  1, 54, 47, 49, 43, 57,  6,  1, 43,\n",
            "        56, 43,  1, 61, 43,  1, 40, 43, 41, 53, 51, 43,  1, 56, 39, 49, 43, 57,\n",
            "        10,  1, 44, 53, 56,  1, 58, 46, 43,  1, 45, 53, 42, 57,  1, 49, 52, 53,\n",
            "        61,  1, 21,  0, 57, 54, 43, 39, 49,  1, 58, 46, 47, 57,  1, 47, 52,  1,\n",
            "        46, 59, 52, 45, 43, 56,  1, 44, 53, 56,  1, 40, 56, 43, 39, 42,  6,  1,\n",
            "        52, 53, 58,  1, 47, 52,  1, 58, 46, 47, 56, 57, 58,  1, 44, 53, 56,  1,\n",
            "        56, 43, 60, 43, 52, 45, 43,  8,  0,  0])\n"
          ]
        }
      ]
    },
    {
      "cell_type": "markdown",
      "source": [
        "**Train Test Split**"
      ],
      "metadata": {
        "id": "U-biEmQ0cVo-"
      }
    },
    {
      "cell_type": "code",
      "source": [
        "# Train test split\n",
        "n=int(0.9*len(data))# 90% train and 10% val split\n",
        "train_data=data[:n]\n",
        "val_data=data[n:]"
      ],
      "metadata": {
        "id": "E6c1iAiQZgzw"
      },
      "execution_count": 90,
      "outputs": []
    },
    {
      "cell_type": "markdown",
      "source": [
        "Providing the input and the target for the model training."
      ],
      "metadata": {
        "id": "q-Yd_x_SccgG"
      }
    },
    {
      "cell_type": "code",
      "source": [
        "block_size=8 # block size to give the model to train in each batch."
      ],
      "metadata": {
        "id": "ceXCGhGAaD64"
      },
      "execution_count": 91,
      "outputs": []
    },
    {
      "cell_type": "code",
      "source": [
        "x=train_data[:block_size+1]\n",
        "y=train_data[1:block_size+1]\n",
        "for t in range(block_size):\n",
        "  context=x[:t+1]\n",
        "  target=y[t]\n",
        "  print(f\"when input is {context} target is {target}\")"
      ],
      "metadata": {
        "colab": {
          "base_uri": "https://localhost:8080/"
        },
        "id": "UiJQzsscakOM",
        "outputId": "63ff7228-41d1-4866-8c62-949101c0afc9"
      },
      "execution_count": 92,
      "outputs": [
        {
          "output_type": "stream",
          "name": "stdout",
          "text": [
            "when input is tensor([18]) target is 47\n",
            "when input is tensor([18, 47]) target is 56\n",
            "when input is tensor([18, 47, 56]) target is 57\n",
            "when input is tensor([18, 47, 56, 57]) target is 58\n",
            "when input is tensor([18, 47, 56, 57, 58]) target is 1\n",
            "when input is tensor([18, 47, 56, 57, 58,  1]) target is 15\n",
            "when input is tensor([18, 47, 56, 57, 58,  1, 15]) target is 47\n",
            "when input is tensor([18, 47, 56, 57, 58,  1, 15, 47]) target is 58\n"
          ]
        }
      ]
    },
    {
      "cell_type": "markdown",
      "source": [
        "## **Data Loaders**"
      ],
      "metadata": {
        "id": "6pY84ptsc4K4"
      }
    },
    {
      "cell_type": "code",
      "source": [
        "torch.manual_seed(1337)\n",
        "batch_size=4 # Sequence to be processed parallely\n",
        "block_size=8 # Maximum context length for prediction\n",
        "\n",
        "def get_batch(split):\n",
        "  data=train_data if split=='train' else val_data\n",
        "  ix=torch.randint(len(data)-block_size,(batch_size,))\n",
        "  x=torch.stack([data[i:i+block_size] for i in ix])\n",
        "  y=torch.stack([data[i+1:i+block_size+1] for i in ix])\n",
        "  return x,y\n",
        "\n",
        "xb,yb=get_batch('train')\n",
        "print(\"inputs: \")\n",
        "print(xb.shape)\n",
        "print(xb)\n",
        "print(\"targets: \")\n",
        "print(yb.shape)\n",
        "print(yb)\n",
        "\n",
        "print('----')\n",
        "\n",
        "for b in range(batch_size): # batch dimension\n",
        "  for t in range(block_size):# time or block dimension\n",
        "    context=xb[b,:t+1]\n",
        "    target=yb[b,t]\n",
        "    print(f\"when input is {context.tolist()} target is {target}\")"
      ],
      "metadata": {
        "colab": {
          "base_uri": "https://localhost:8080/"
        },
        "id": "5HJxpiBEav4D",
        "outputId": "682468d4-fdc8-45ea-b015-3acc0bce4005"
      },
      "execution_count": 93,
      "outputs": [
        {
          "output_type": "stream",
          "name": "stdout",
          "text": [
            "inputs: \n",
            "torch.Size([4, 8])\n",
            "tensor([[24, 43, 58,  5, 57,  1, 46, 43],\n",
            "        [44, 53, 56,  1, 58, 46, 39, 58],\n",
            "        [52, 58,  1, 58, 46, 39, 58,  1],\n",
            "        [25, 17, 27, 10,  0, 21,  1, 54]])\n",
            "targets: \n",
            "torch.Size([4, 8])\n",
            "tensor([[43, 58,  5, 57,  1, 46, 43, 39],\n",
            "        [53, 56,  1, 58, 46, 39, 58,  1],\n",
            "        [58,  1, 58, 46, 39, 58,  1, 46],\n",
            "        [17, 27, 10,  0, 21,  1, 54, 39]])\n",
            "----\n",
            "when input is [24] target is 43\n",
            "when input is [24, 43] target is 58\n",
            "when input is [24, 43, 58] target is 5\n",
            "when input is [24, 43, 58, 5] target is 57\n",
            "when input is [24, 43, 58, 5, 57] target is 1\n",
            "when input is [24, 43, 58, 5, 57, 1] target is 46\n",
            "when input is [24, 43, 58, 5, 57, 1, 46] target is 43\n",
            "when input is [24, 43, 58, 5, 57, 1, 46, 43] target is 39\n",
            "when input is [44] target is 53\n",
            "when input is [44, 53] target is 56\n",
            "when input is [44, 53, 56] target is 1\n",
            "when input is [44, 53, 56, 1] target is 58\n",
            "when input is [44, 53, 56, 1, 58] target is 46\n",
            "when input is [44, 53, 56, 1, 58, 46] target is 39\n",
            "when input is [44, 53, 56, 1, 58, 46, 39] target is 58\n",
            "when input is [44, 53, 56, 1, 58, 46, 39, 58] target is 1\n",
            "when input is [52] target is 58\n",
            "when input is [52, 58] target is 1\n",
            "when input is [52, 58, 1] target is 58\n",
            "when input is [52, 58, 1, 58] target is 46\n",
            "when input is [52, 58, 1, 58, 46] target is 39\n",
            "when input is [52, 58, 1, 58, 46, 39] target is 58\n",
            "when input is [52, 58, 1, 58, 46, 39, 58] target is 1\n",
            "when input is [52, 58, 1, 58, 46, 39, 58, 1] target is 46\n",
            "when input is [25] target is 17\n",
            "when input is [25, 17] target is 27\n",
            "when input is [25, 17, 27] target is 10\n",
            "when input is [25, 17, 27, 10] target is 0\n",
            "when input is [25, 17, 27, 10, 0] target is 21\n",
            "when input is [25, 17, 27, 10, 0, 21] target is 1\n",
            "when input is [25, 17, 27, 10, 0, 21, 1] target is 54\n",
            "when input is [25, 17, 27, 10, 0, 21, 1, 54] target is 39\n"
          ]
        }
      ]
    },
    {
      "cell_type": "markdown",
      "source": [
        "## **Initial Stage**"
      ],
      "metadata": {
        "id": "WNpdiBcCiJ0x"
      }
    },
    {
      "cell_type": "markdown",
      "source": [
        "**Using Bigram Language Model**\n",
        "\n",
        "more about [bigram model](https://www.analyticsvidhya.com/blog/2019/08/comprehensive-guide-language-model-nlp-python-code/)"
      ],
      "metadata": {
        "id": "1pGZXseWiQVM"
      }
    },
    {
      "cell_type": "markdown",
      "source": [
        "In the next piece code the bigram model will calculate each probabilites for the next token to come and predict it accordingly ,In this model each token is not communicating with each other and can only predict it using the current time step token only."
      ],
      "metadata": {
        "id": "ZAIrVzhBkCb6"
      }
    },
    {
      "cell_type": "code",
      "source": [
        "import torch\n",
        "import torch.nn as nn\n",
        "from torch.nn import functional as F\n",
        "torch.manual_seed(1337)\n",
        "\n",
        "class BigramLanguageModel(nn.Module):\n",
        "    def __init__(self, vocab_size):\n",
        "        super().__init__()\n",
        "        # Each token will directly reads from the logits for the next token from the lookup table\n",
        "        self.token_embedding_table = nn.Embedding(vocab_size, vocab_size)\n",
        "\n",
        "    def forward(self, idx, targets=None):\n",
        "        # idx and targets are both (B,T) tensor of the integers\n",
        "        logits = self.token_embedding_table(idx)# (B,T,C)(batch,time,channel)\n",
        "\n",
        "        # The pytorch cross_entropy expects B*T by C for the loss calculation\n",
        "        B,T,C=logits.shape\n",
        "        if targets is None:\n",
        "          loss=None\n",
        "        else:\n",
        "          logits=logits.view(B*T,C)\n",
        "          targets=targets.view(B*T)\n",
        "          loss=F.cross_entropy(logits,targets)\n",
        "\n",
        "        return logits,loss\n",
        "\n",
        "    def generate(self,idx,max_new_tokens):\n",
        "      # idx is (B,T) array of indices in the current context\n",
        "      for _ in range(max_new_tokens):\n",
        "        # Get the predictions\n",
        "        logits,loss=self(idx)\n",
        "        # Focus only on the last time step\n",
        "        logits=logits[:,-1,:] # becomes (B,C)\n",
        "        # apply softmax to get the probabilites\n",
        "        probs=F.softmax(logits,dim=-1) # (B,C)\n",
        "        # sample from the distribution\n",
        "        idx_next=torch.multinomial(probs,num_samples=1) # (B,1)\n",
        "        # append sampled index to the running sequence\n",
        "        idx=torch.cat((idx,idx_next),dim=1) # (B,T+1)\n",
        "      return idx\n",
        "\n",
        "model=BigramLanguageModel(vocab_size)\n",
        "logits,loss=model(xb,yb)\n",
        "print(logits.shape)\n",
        "print(loss)\n",
        "\n",
        "idx=torch.zeros((1,1),dtype=torch.long)\n",
        "print(decode(model.generate(idx,max_new_tokens=100)[0].tolist()))"
      ],
      "metadata": {
        "colab": {
          "base_uri": "https://localhost:8080/"
        },
        "id": "Yoh5cl4egiom",
        "outputId": "7cbb16f4-f7de-4d25-eb22-d32ae27c9379"
      },
      "execution_count": 94,
      "outputs": [
        {
          "output_type": "stream",
          "name": "stdout",
          "text": [
            "torch.Size([32, 65])\n",
            "tensor(4.8786, grad_fn=<NllLossBackward0>)\n",
            "\n",
            "Sr?qP-QWktXoL&jLDJgOLVz'RIoDqHdhsV&vLLxatjscMpwLERSPyao.qfzs$Ys$zF-w,;eEkzxjgCKFChs!iWW.ObzDnxA Ms$3\n"
          ]
        }
      ]
    },
    {
      "cell_type": "markdown",
      "source": [
        "## **Training the Bigram Model**"
      ],
      "metadata": {
        "id": "FYouOLNQpVcg"
      }
    },
    {
      "cell_type": "code",
      "source": [
        "# Create optimizer\n",
        "optimizer=torch.optim.AdamW(model.parameters(),lr=1e-3)"
      ],
      "metadata": {
        "id": "8zi6CxLQjSQn"
      },
      "execution_count": 95,
      "outputs": []
    },
    {
      "cell_type": "markdown",
      "source": [
        "Running this code for multiple times to see how much the loss can decrease."
      ],
      "metadata": {
        "id": "Ldyj6UqSqK-t"
      }
    },
    {
      "cell_type": "code",
      "source": [
        "batch_size=32\n",
        "epochs=1000\n",
        "for steps in range(epochs):\n",
        "  xb,yb=get_batch('train')\n",
        "  logits,loss=model(xb,yb)\n",
        "  optimizer.zero_grad(set_to_none=True)\n",
        "  loss.backward()\n",
        "  optimizer.step()\n",
        "\n",
        "print(loss.item())"
      ],
      "metadata": {
        "colab": {
          "base_uri": "https://localhost:8080/"
        },
        "id": "AXl4X0DqppJZ",
        "outputId": "258c52a3-2de0-44ec-f4bb-ae83a1f6489b"
      },
      "execution_count": 96,
      "outputs": [
        {
          "output_type": "stream",
          "name": "stdout",
          "text": [
            "3.7218432426452637\n"
          ]
        }
      ]
    },
    {
      "cell_type": "markdown",
      "source": [
        "after several steps the minimum loss can only be around 2.5 ~ 2.4"
      ],
      "metadata": {
        "id": "XARh-RAwq7rj"
      }
    },
    {
      "cell_type": "code",
      "source": [
        "# Generating after the Traning\n",
        "idx=torch.zeros((1,1),dtype=torch.long)\n",
        "print(decode(model.generate(idx,max_new_tokens=400)[0].tolist()))"
      ],
      "metadata": {
        "colab": {
          "base_uri": "https://localhost:8080/"
        },
        "id": "ZxxQ7kt4p84W",
        "outputId": "6292eb7b-94a1-4890-e317-607e1db1722d"
      },
      "execution_count": 97,
      "outputs": [
        {
          "output_type": "stream",
          "name": "stdout",
          "text": [
            "\n",
            "olylvLLko'TMyatyIoconxad.?-tNSqYPsx&bF.oiR;BD$dZBMZv'K f bRSmIKptRPly:AUC&$zLK,qUEy&Ay;ZxjKVhmrdagC-bTop-QJe.H?x\n",
            "JGF&pwst-P sti.hlEsu;w:w a BG:tLhMk,epdhlay'sVzLq--ERwXUzDnq-bn czXxxI&V&Pynnl,s,Ioto!uvixwC-IJXElrgm C-.bcoCPJ\n",
            "IMphsevhO AL!-K:AIkpre,\n",
            "rPHEJUzV;P?uN3b?ohoRiBUENoV3B&jumNL;Aik,\n",
            "xf -IEKROn JSyYWW?n 'ay;:weO'AqVzPyoiBL? seAX3Dot,iy.xyIcf r!!ul-Koi:x pZrAQly'v'a;vEzN\n",
            "BwowKo'MBqF$PPFb\n",
            "CjYX3\n"
          ]
        }
      ]
    },
    {
      "cell_type": "markdown",
      "source": [
        "## **TRICK FOR SELF-ATTENTION**"
      ],
      "metadata": {
        "id": "ouDX6cMl0m_0"
      }
    },
    {
      "cell_type": "code",
      "source": [
        "# For example\n",
        "torch.manual_seed(1337)\n",
        "B,T,C=4,8,2 # batch,time,channels\n",
        "x=torch.randn(B,T,C)\n",
        "x.shape"
      ],
      "metadata": {
        "id": "TGnxCkx6t_Bg",
        "colab": {
          "base_uri": "https://localhost:8080/"
        },
        "outputId": "0e843361-0361-4b9b-ec55-281f8e593771"
      },
      "execution_count": 104,
      "outputs": [
        {
          "output_type": "execute_result",
          "data": {
            "text/plain": [
              "torch.Size([4, 8, 2])"
            ]
          },
          "metadata": {},
          "execution_count": 104
        }
      ]
    },
    {
      "cell_type": "markdown",
      "source": [
        "## **V2**"
      ],
      "metadata": {
        "id": "HyZYEWcY2Ckl"
      }
    },
    {
      "cell_type": "code",
      "source": [
        "# V2\n",
        "# Averaging the past token ids for predicting the new tokens\n",
        "\n",
        "xbow=torch.zeros((B,T,C)) # here \"bow\" stands for bag of words.\n",
        "for b in range(B):\n",
        "  for t in range(T):\n",
        "    xprev=x[b,:t+1] # (t,C)\n",
        "    xbow[b,t]=torch.mean(xprev,0)"
      ],
      "metadata": {
        "id": "K52Pr91u0zHo"
      },
      "execution_count": 105,
      "outputs": []
    },
    {
      "cell_type": "markdown",
      "source": [
        "the above code can be done using simple matrix multiplication"
      ],
      "metadata": {
        "id": "JEwdhtVY2gTt"
      }
    },
    {
      "cell_type": "code",
      "source": [
        "# Example of matrix multiplication\n",
        "torch.manual_seed(42)\n",
        "a=torch.ones(3,3)\n",
        "b=torch.randint(0,10,(3,2)).float()\n",
        "c=a@b\n",
        "\n",
        "print(\"a=\")\n",
        "print(a)\n",
        "print(\"--\")\n",
        "print(\"b=\")\n",
        "print(b)\n",
        "print(\"--\")\n",
        "print(\"c=\")\n",
        "print(c)"
      ],
      "metadata": {
        "colab": {
          "base_uri": "https://localhost:8080/"
        },
        "id": "4ho1Knt419xn",
        "outputId": "9dc32919-d2ea-40cb-d2d9-5c94020f2cc4"
      },
      "execution_count": 100,
      "outputs": [
        {
          "output_type": "stream",
          "name": "stdout",
          "text": [
            "a=\n",
            "tensor([[1., 1., 1.],\n",
            "        [1., 1., 1.],\n",
            "        [1., 1., 1.]])\n",
            "--\n",
            "b=\n",
            "tensor([[2., 7.],\n",
            "        [6., 4.],\n",
            "        [6., 5.]])\n",
            "--\n",
            "c=\n",
            "tensor([[14., 16.],\n",
            "        [14., 16.],\n",
            "        [14., 16.]])\n"
          ]
        }
      ]
    },
    {
      "cell_type": "code",
      "source": [
        "torch.tril(torch.ones(3,3))"
      ],
      "metadata": {
        "colab": {
          "base_uri": "https://localhost:8080/"
        },
        "id": "oa1KYMMs2zrs",
        "outputId": "41d1c21a-4017-4542-cdb9-76fa84a4aa2c"
      },
      "execution_count": 101,
      "outputs": [
        {
          "output_type": "execute_result",
          "data": {
            "text/plain": [
              "tensor([[1., 0., 0.],\n",
              "        [1., 1., 0.],\n",
              "        [1., 1., 1.]])"
            ]
          },
          "metadata": {},
          "execution_count": 101
        }
      ]
    },
    {
      "cell_type": "code",
      "source": [
        "# Example of matrix multiplication\n",
        "torch.manual_seed(42)\n",
        "a=torch.tril(torch.ones(3,3))\n",
        "a=a/torch.sum(a,1,keepdim=True)\n",
        "b=torch.randint(0,10,(3,2)).float()\n",
        "c=a@b\n",
        "\n",
        "print(\"a=\")\n",
        "print(a)\n",
        "print(\"--\")\n",
        "print(\"b=\")\n",
        "print(b)\n",
        "print(\"--\")\n",
        "print(\"c=\")\n",
        "print(c)"
      ],
      "metadata": {
        "colab": {
          "base_uri": "https://localhost:8080/"
        },
        "id": "7xBj3hAr4a6B",
        "outputId": "c6903c56-c3c1-4b62-81fb-288b3eb0fbbc"
      },
      "execution_count": 102,
      "outputs": [
        {
          "output_type": "stream",
          "name": "stdout",
          "text": [
            "a=\n",
            "tensor([[1.0000, 0.0000, 0.0000],\n",
            "        [0.5000, 0.5000, 0.0000],\n",
            "        [0.3333, 0.3333, 0.3333]])\n",
            "--\n",
            "b=\n",
            "tensor([[2., 7.],\n",
            "        [6., 4.],\n",
            "        [6., 5.]])\n",
            "--\n",
            "c=\n",
            "tensor([[2.0000, 7.0000],\n",
            "        [4.0000, 5.5000],\n",
            "        [4.6667, 5.3333]])\n"
          ]
        }
      ]
    },
    {
      "cell_type": "code",
      "source": [
        "# Implementing it (V2)\n",
        "wei=torch.tril(torch.ones(T,T))\n",
        "wei= wei/wei.sum(1,keepdim=True)\n",
        "xbow2=wei @ x # (B,T,T) @ (B,T,C) ----> (B,T,C)\n",
        "torch.allclose(xbow,xbow2,atol=1e-6)"
      ],
      "metadata": {
        "colab": {
          "base_uri": "https://localhost:8080/"
        },
        "id": "s2Tfbnqu4qRt",
        "outputId": "d2fa6b73-c1c2-441d-f957-885eaf5ee6d3"
      },
      "execution_count": 107,
      "outputs": [
        {
          "output_type": "execute_result",
          "data": {
            "text/plain": [
              "True"
            ]
          },
          "metadata": {},
          "execution_count": 107
        }
      ]
    },
    {
      "cell_type": "code",
      "source": [
        "# we can see that both of them are identical\n",
        "print(xbow[0])\n",
        "print(\"-------------\")\n",
        "print(xbow2[0])"
      ],
      "metadata": {
        "colab": {
          "base_uri": "https://localhost:8080/"
        },
        "id": "jCEwA9go8HK3",
        "outputId": "17770dfe-460b-4cbe-d40c-ed3ca39e60f5"
      },
      "execution_count": 110,
      "outputs": [
        {
          "output_type": "stream",
          "name": "stdout",
          "text": [
            "tensor([[ 0.1808, -0.0700],\n",
            "        [-0.0894, -0.4926],\n",
            "        [ 0.1490, -0.3199],\n",
            "        [ 0.3504, -0.2238],\n",
            "        [ 0.3525,  0.0545],\n",
            "        [ 0.0688, -0.0396],\n",
            "        [ 0.0927, -0.0682],\n",
            "        [-0.0341,  0.1332]])\n",
            "-------------\n",
            "tensor([[ 0.1808, -0.0700],\n",
            "        [-0.0894, -0.4926],\n",
            "        [ 0.1490, -0.3199],\n",
            "        [ 0.3504, -0.2238],\n",
            "        [ 0.3525,  0.0545],\n",
            "        [ 0.0688, -0.0396],\n",
            "        [ 0.0927, -0.0682],\n",
            "        [-0.0341,  0.1332]])\n"
          ]
        }
      ]
    },
    {
      "cell_type": "markdown",
      "source": [
        "## **V3**"
      ],
      "metadata": {
        "id": "7RuHvGaE9HIH"
      }
    },
    {
      "cell_type": "code",
      "source": [
        "# V3: using softmax\n",
        "tril=torch.tril(torch.ones(T,T))\n",
        "wei= torch.zeros((T,T))\n",
        "wei=wei.masked_fill(tril==0,float('-inf'))\n",
        "wei=F.softmax(wei,dim=-1)\n",
        "xbow3=wei @ x\n",
        "torch.allclose(xbow,xbow3,atol=1e-6)"
      ],
      "metadata": {
        "colab": {
          "base_uri": "https://localhost:8080/"
        },
        "id": "f9w5DkFR9Ebr",
        "outputId": "3344601c-7768-42f2-c39c-c2747fbcd688"
      },
      "execution_count": 111,
      "outputs": [
        {
          "output_type": "execute_result",
          "data": {
            "text/plain": [
              "True"
            ]
          },
          "metadata": {},
          "execution_count": 111
        }
      ]
    },
    {
      "cell_type": "markdown",
      "source": [
        "## **V4**"
      ],
      "metadata": {
        "id": "wFbFxHCmHpR6"
      }
    },
    {
      "cell_type": "code",
      "source": [
        "# V4: Self-attention\n",
        "torch.manual_seed(1337)\n",
        "B,T,C=4,8,32 # batch,time,channels\n",
        "x=torch.randn(B,T,C)\n",
        "\n",
        "# Single head self attention\n",
        "head_size=16\n",
        "key=nn.Linear(C,head_size,bias=False)\n",
        "query=nn.Linear(C,head_size,bias=False)\n",
        "value=nn.Linear(C,head_size,bias=False)\n",
        "\n",
        "k=key(x) # (B,T,16)\n",
        "q=query(x) # (B,T,16)\n",
        "wei=q @ k.transpose(-2,-1) # (B,T,16) @ (B,16,T) ---> (B,T,T)\n",
        "\n",
        "tril=torch.tril(torch.ones(T,T))\n",
        "wei=wei.masked_fill(tril==0,float('-inf'))\n",
        "wei=F.softmax(wei,dim=-1)\n",
        "\n",
        "v=value(x)\n",
        "out=wei @ v\n",
        "\n",
        "out.shape"
      ],
      "metadata": {
        "colab": {
          "base_uri": "https://localhost:8080/"
        },
        "id": "QpiRhX4P9dfD",
        "outputId": "cb0522d9-265a-42cf-8ed5-0d71f59d527d"
      },
      "execution_count": 117,
      "outputs": [
        {
          "output_type": "execute_result",
          "data": {
            "text/plain": [
              "torch.Size([4, 8, 16])"
            ]
          },
          "metadata": {},
          "execution_count": 117
        }
      ]
    },
    {
      "cell_type": "code",
      "source": [
        "wei"
      ],
      "metadata": {
        "colab": {
          "base_uri": "https://localhost:8080/"
        },
        "id": "QNZZ5lw3J9KA",
        "outputId": "a34d7dac-ca39-4ec0-8723-517de37da56e"
      },
      "execution_count": 118,
      "outputs": [
        {
          "output_type": "execute_result",
          "data": {
            "text/plain": [
              "tensor([[[1.0000, 0.0000, 0.0000, 0.0000, 0.0000, 0.0000, 0.0000, 0.0000],\n",
              "         [0.1574, 0.8426, 0.0000, 0.0000, 0.0000, 0.0000, 0.0000, 0.0000],\n",
              "         [0.2088, 0.1646, 0.6266, 0.0000, 0.0000, 0.0000, 0.0000, 0.0000],\n",
              "         [0.5792, 0.1187, 0.1889, 0.1131, 0.0000, 0.0000, 0.0000, 0.0000],\n",
              "         [0.0294, 0.1052, 0.0469, 0.0276, 0.7909, 0.0000, 0.0000, 0.0000],\n",
              "         [0.0176, 0.2689, 0.0215, 0.0089, 0.6812, 0.0019, 0.0000, 0.0000],\n",
              "         [0.1691, 0.4066, 0.0438, 0.0416, 0.1048, 0.2012, 0.0329, 0.0000],\n",
              "         [0.0210, 0.0843, 0.0555, 0.2297, 0.0573, 0.0709, 0.2423, 0.2391]],\n",
              "\n",
              "        [[1.0000, 0.0000, 0.0000, 0.0000, 0.0000, 0.0000, 0.0000, 0.0000],\n",
              "         [0.1687, 0.8313, 0.0000, 0.0000, 0.0000, 0.0000, 0.0000, 0.0000],\n",
              "         [0.2477, 0.0514, 0.7008, 0.0000, 0.0000, 0.0000, 0.0000, 0.0000],\n",
              "         [0.4410, 0.0957, 0.3747, 0.0887, 0.0000, 0.0000, 0.0000, 0.0000],\n",
              "         [0.0069, 0.0456, 0.0300, 0.7748, 0.1427, 0.0000, 0.0000, 0.0000],\n",
              "         [0.0660, 0.0892, 0.0413, 0.6316, 0.1649, 0.0069, 0.0000, 0.0000],\n",
              "         [0.0396, 0.2288, 0.0090, 0.2000, 0.2061, 0.1949, 0.1217, 0.0000],\n",
              "         [0.3650, 0.0474, 0.0767, 0.0293, 0.3084, 0.0784, 0.0455, 0.0493]],\n",
              "\n",
              "        [[1.0000, 0.0000, 0.0000, 0.0000, 0.0000, 0.0000, 0.0000, 0.0000],\n",
              "         [0.4820, 0.5180, 0.0000, 0.0000, 0.0000, 0.0000, 0.0000, 0.0000],\n",
              "         [0.1705, 0.4550, 0.3745, 0.0000, 0.0000, 0.0000, 0.0000, 0.0000],\n",
              "         [0.0074, 0.7444, 0.0477, 0.2005, 0.0000, 0.0000, 0.0000, 0.0000],\n",
              "         [0.8359, 0.0416, 0.0525, 0.0580, 0.0119, 0.0000, 0.0000, 0.0000],\n",
              "         [0.1195, 0.2061, 0.1019, 0.1153, 0.1814, 0.2758, 0.0000, 0.0000],\n",
              "         [0.0065, 0.0589, 0.0372, 0.3063, 0.1325, 0.3209, 0.1378, 0.0000],\n",
              "         [0.1416, 0.1519, 0.0384, 0.1643, 0.1207, 0.1254, 0.0169, 0.2408]],\n",
              "\n",
              "        [[1.0000, 0.0000, 0.0000, 0.0000, 0.0000, 0.0000, 0.0000, 0.0000],\n",
              "         [0.6369, 0.3631, 0.0000, 0.0000, 0.0000, 0.0000, 0.0000, 0.0000],\n",
              "         [0.2586, 0.7376, 0.0038, 0.0000, 0.0000, 0.0000, 0.0000, 0.0000],\n",
              "         [0.4692, 0.3440, 0.1237, 0.0631, 0.0000, 0.0000, 0.0000, 0.0000],\n",
              "         [0.1865, 0.4680, 0.0353, 0.1854, 0.1248, 0.0000, 0.0000, 0.0000],\n",
              "         [0.0828, 0.7479, 0.0017, 0.0735, 0.0712, 0.0228, 0.0000, 0.0000],\n",
              "         [0.0522, 0.0517, 0.0961, 0.0375, 0.1024, 0.5730, 0.0872, 0.0000],\n",
              "         [0.0306, 0.2728, 0.0333, 0.1409, 0.1414, 0.0582, 0.0825, 0.2402]]],\n",
              "       grad_fn=<SoftmaxBackward0>)"
            ]
          },
          "metadata": {},
          "execution_count": 118
        }
      ]
    },
    {
      "cell_type": "code",
      "source": [],
      "metadata": {
        "id": "nrxmHfF1J-IW"
      },
      "execution_count": null,
      "outputs": []
    }
  ]
}